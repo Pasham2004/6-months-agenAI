{
 "cells": [
  {
   "cell_type": "markdown",
   "id": "066c97c2-8f62-4548-982e-393984d61b38",
   "metadata": {},
   "source": [
    "SET CREATION"
   ]
  },
  {
   "cell_type": "code",
   "execution_count": 1,
   "id": "330c9e93-aee7-4aff-825c-3e84521ceb22",
   "metadata": {},
   "outputs": [
    {
     "data": {
      "text/plain": [
       "{1, 2, 3, 4, 5}"
      ]
     },
     "execution_count": 1,
     "metadata": {},
     "output_type": "execute_result"
    }
   ],
   "source": [
    "myset = {1,2,3,4,5}     \n",
    "myset\n"
   ]
  },
  {
   "cell_type": "code",
   "execution_count": 2,
   "id": "4e23f147-5c29-4b32-8b16-f1d3a56ece9f",
   "metadata": {},
   "outputs": [
    {
     "data": {
      "text/plain": [
       "5"
      ]
     },
     "execution_count": 2,
     "metadata": {},
     "output_type": "execute_result"
    }
   ],
   "source": [
    "len(myset)"
   ]
  },
  {
   "cell_type": "code",
   "execution_count": 3,
   "id": "d1ab78cc-994b-4708-9b6e-27174c311005",
   "metadata": {},
   "outputs": [
    {
     "data": {
      "text/plain": [
       "{1, 2, 3, 4, 5}"
      ]
     },
     "execution_count": 3,
     "metadata": {},
     "output_type": "execute_result"
    }
   ],
   "source": [
    "my_set = {1,1,2,2,3,4,5,5,}\n",
    "my_set"
   ]
  },
  {
   "cell_type": "code",
   "execution_count": 5,
   "id": "b3c86ce7-1509-43c0-b4e7-a3c4d7db69a6",
   "metadata": {},
   "outputs": [
    {
     "data": {
      "text/plain": [
       "{1.79, 2.08, 3.99, 4.56, 5.45}"
      ]
     },
     "execution_count": 5,
     "metadata": {},
     "output_type": "execute_result"
    }
   ],
   "source": [
    "myset1 = {1.79,2.08,3.99,4.56,5.45} \n",
    "myset1 "
   ]
  },
  {
   "cell_type": "code",
   "execution_count": 6,
   "id": "fc3b0e84-5d54-48ed-aff3-3cbe11d8bde2",
   "metadata": {},
   "outputs": [
    {
     "data": {
      "text/plain": [
       "{'asif', 'john', 'tyrion'}"
      ]
     },
     "execution_count": 6,
     "metadata": {},
     "output_type": "execute_result"
    }
   ],
   "source": [
    "myset2 = {'asif','john','tyrion'}\n",
    "myset2"
   ]
  },
  {
   "cell_type": "code",
   "execution_count": 8,
   "id": "31220104-1125-4683-bede-3bc7e527f66f",
   "metadata": {},
   "outputs": [
    {
     "data": {
      "text/plain": [
       "{(11, 22, 32), 10, 20, 'hola'}"
      ]
     },
     "execution_count": 8,
     "metadata": {},
     "output_type": "execute_result"
    }
   ],
   "source": [
    "myset3 = {10,20,\"hola\",(11,22,32)}\n",
    "myset3"
   ]
  },
  {
   "cell_type": "code",
   "execution_count": 9,
   "id": "c18a7b5d-3160-4888-9d73-730f581af805",
   "metadata": {},
   "outputs": [
    {
     "ename": "TypeError",
     "evalue": "unhashable type: 'list'",
     "output_type": "error",
     "traceback": [
      "\u001b[1;31m---------------------------------------------------------------------------\u001b[0m",
      "\u001b[1;31mTypeError\u001b[0m                                 Traceback (most recent call last)",
      "Cell \u001b[1;32mIn[9], line 1\u001b[0m\n\u001b[1;32m----> 1\u001b[0m myset3 \u001b[38;5;241m=\u001b[39m {\u001b[38;5;241m10\u001b[39m,\u001b[38;5;241m20\u001b[39m,\u001b[38;5;124m\"\u001b[39m\u001b[38;5;124mHola\u001b[39m\u001b[38;5;124m\"\u001b[39m,[\u001b[38;5;241m11\u001b[39m,\u001b[38;5;241m22\u001b[39m,\u001b[38;5;241m32\u001b[39m]}\n\u001b[0;32m      2\u001b[0m myset3\n",
      "\u001b[1;31mTypeError\u001b[0m: unhashable type: 'list'"
     ]
    }
   ],
   "source": [
    "myset3 = {10,20,\"Hola\",[11,22,32]}\n",
    "myset3"
   ]
  },
  {
   "cell_type": "code",
   "execution_count": 10,
   "id": "9549b0d5-c6ff-4d1d-9d1b-f49cd43d4582",
   "metadata": {},
   "outputs": [
    {
     "data": {
      "text/plain": [
       "{'four', 'one', 'three', 'two'}"
      ]
     },
     "execution_count": 10,
     "metadata": {},
     "output_type": "execute_result"
    }
   ],
   "source": [
    "my_set = set (('one','two','three','four',))\n",
    "my_set"
   ]
  },
  {
   "cell_type": "markdown",
   "id": "916fce4b-f212-450c-83db-fcfb81fbddbd",
   "metadata": {},
   "source": [
    "LOOP THROUGH A SET"
   ]
  },
  {
   "cell_type": "code",
   "execution_count": 12,
   "id": "08b8f137-9fd2-4e47-a807-cc70082df48a",
   "metadata": {},
   "outputs": [
    {
     "name": "stdout",
     "output_type": "stream",
     "text": [
      "six\n",
      "eight\n",
      "two\n",
      "three\n",
      "one\n",
      "four\n",
      "seven\n"
     ]
    }
   ],
   "source": [
    "myset = {'one','two','three','four','six','seven','eight'}\n",
    "for i in myset:\n",
    "    print(i)"
   ]
  },
  {
   "cell_type": "code",
   "execution_count": 13,
   "id": "cb5e8216-41d1-455f-8651-4fa0c259037d",
   "metadata": {},
   "outputs": [
    {
     "name": "stdout",
     "output_type": "stream",
     "text": [
      "(0, 'six')\n",
      "(1, 'eight')\n",
      "(2, 'two')\n",
      "(3, 'three')\n",
      "(4, 'one')\n",
      "(5, 'four')\n",
      "(6, 'seven')\n"
     ]
    }
   ],
   "source": [
    "for i in enumerate(myset):\n",
    "    print(i)"
   ]
  },
  {
   "cell_type": "markdown",
   "id": "66d1c226-dbaf-40a1-ad6e-f3b6dee58b61",
   "metadata": {},
   "source": [
    "SET MEMBERSHIP"
   ]
  },
  {
   "cell_type": "code",
   "execution_count": 14,
   "id": "0c2e2c5b-9d96-4a5f-a5e2-d6cec48f3c7c",
   "metadata": {},
   "outputs": [
    {
     "data": {
      "text/plain": [
       "{'eight', 'four', 'one', 'seven', 'six', 'three', 'two'}"
      ]
     },
     "execution_count": 14,
     "metadata": {},
     "output_type": "execute_result"
    }
   ],
   "source": [
    "myset"
   ]
  },
  {
   "cell_type": "code",
   "execution_count": 15,
   "id": "7e80c9af-440e-433a-bc5f-7e13102a480b",
   "metadata": {},
   "outputs": [
    {
     "data": {
      "text/plain": [
       "True"
      ]
     },
     "execution_count": 15,
     "metadata": {},
     "output_type": "execute_result"
    }
   ],
   "source": [
    "'one' in myset"
   ]
  },
  {
   "cell_type": "code",
   "execution_count": 16,
   "id": "34ba3fd7-9380-40cc-aae4-d9f74853a868",
   "metadata": {},
   "outputs": [
    {
     "data": {
      "text/plain": [
       "False"
      ]
     },
     "execution_count": 16,
     "metadata": {},
     "output_type": "execute_result"
    }
   ],
   "source": [
    "'ten' in myset"
   ]
  },
  {
   "cell_type": "code",
   "execution_count": 17,
   "id": "a7e27387-2064-46d5-9981-1cd20881ac2e",
   "metadata": {},
   "outputs": [
    {
     "name": "stdout",
     "output_type": "stream",
     "text": [
      "three is present in the set\n"
     ]
    }
   ],
   "source": [
    "if 'three' in myset:\n",
    "    print('three is present in the set')\n",
    "else:\n",
    "    print('three is not present in the set')"
   ]
  },
  {
   "cell_type": "code",
   "execution_count": 19,
   "id": "54617924-7eac-4e50-9ba2-0008ff291371",
   "metadata": {},
   "outputs": [
    {
     "name": "stdout",
     "output_type": "stream",
     "text": [
      "eleven is not present in the set\n"
     ]
    }
   ],
   "source": [
    "if 'eleven' in myset:\n",
    "    print('eleven is present in the set')\n",
    "else:\n",
    "    print('eleven is not present in the set')"
   ]
  },
  {
   "cell_type": "markdown",
   "id": "a8e9cc4e-81d6-4d32-a75e-4b3fdbb8dd70",
   "metadata": {},
   "source": [
    "ADD & REMOVE ITEMS"
   ]
  },
  {
   "cell_type": "code",
   "execution_count": 20,
   "id": "50d5eb93-5def-4dcb-a456-6d88516097b5",
   "metadata": {},
   "outputs": [
    {
     "data": {
      "text/plain": [
       "{'eight', 'four', 'one', 'seven', 'six', 'three', 'two'}"
      ]
     },
     "execution_count": 20,
     "metadata": {},
     "output_type": "execute_result"
    }
   ],
   "source": [
    "myset"
   ]
  },
  {
   "cell_type": "code",
   "execution_count": 21,
   "id": "0b31ac5c-b05c-4351-b3cb-1d717f13ad4b",
   "metadata": {},
   "outputs": [
    {
     "data": {
      "text/plain": [
       "{'NINE', 'eight', 'four', 'one', 'seven', 'six', 'three', 'two'}"
      ]
     },
     "execution_count": 21,
     "metadata": {},
     "output_type": "execute_result"
    }
   ],
   "source": [
    "myset.add('NINE')\n",
    "myset"
   ]
  },
  {
   "cell_type": "code",
   "execution_count": 23,
   "id": "0df58fb0-64e7-4267-8c33-ee20a890880d",
   "metadata": {},
   "outputs": [
    {
     "data": {
      "text/plain": [
       "{'ELEVEN',\n",
       " 'NINE',\n",
       " 'TEN',\n",
       " 'TWELVE',\n",
       " 'eight',\n",
       " 'four',\n",
       " 'one',\n",
       " 'seven',\n",
       " 'six',\n",
       " 'three',\n",
       " 'two'}"
      ]
     },
     "execution_count": 23,
     "metadata": {},
     "output_type": "execute_result"
    }
   ],
   "source": [
    "myset.update(['TEN','ELEVEN','TWELVE'])\n",
    "myset"
   ]
  },
  {
   "cell_type": "code",
   "execution_count": 24,
   "id": "534682d1-1eac-48ab-9474-3b468327d23e",
   "metadata": {},
   "outputs": [
    {
     "data": {
      "text/plain": [
       "{'ELEVEN',\n",
       " 'TEN',\n",
       " 'TWELVE',\n",
       " 'eight',\n",
       " 'four',\n",
       " 'one',\n",
       " 'seven',\n",
       " 'six',\n",
       " 'three',\n",
       " 'two'}"
      ]
     },
     "execution_count": 24,
     "metadata": {},
     "output_type": "execute_result"
    }
   ],
   "source": [
    "myset.remove('NINE')\n",
    "myset"
   ]
  },
  {
   "cell_type": "code",
   "execution_count": 25,
   "id": "42f5844c-4498-4d49-a90e-9f678cbf5328",
   "metadata": {},
   "outputs": [
    {
     "data": {
      "text/plain": [
       "{'ELEVEN', 'TWELVE', 'eight', 'four', 'one', 'seven', 'six', 'three', 'two'}"
      ]
     },
     "execution_count": 25,
     "metadata": {},
     "output_type": "execute_result"
    }
   ],
   "source": [
    "myset.discard('TEN')\n",
    "myset"
   ]
  },
  {
   "cell_type": "code",
   "execution_count": 27,
   "id": "5ab501a5-8fb5-46d2-a2e0-48768321f90d",
   "metadata": {},
   "outputs": [
    {
     "data": {
      "text/plain": [
       "set()"
      ]
     },
     "execution_count": 27,
     "metadata": {},
     "output_type": "execute_result"
    }
   ],
   "source": [
    "myset.clear()\n",
    "myset"
   ]
  },
  {
   "cell_type": "code",
   "execution_count": 28,
   "id": "8ccc7f78-a1c8-40f3-865c-7bcc561bc59d",
   "metadata": {},
   "outputs": [
    {
     "ename": "NameError",
     "evalue": "name 'myset' is not defined",
     "output_type": "error",
     "traceback": [
      "\u001b[1;31m---------------------------------------------------------------------------\u001b[0m",
      "\u001b[1;31mNameError\u001b[0m                                 Traceback (most recent call last)",
      "Cell \u001b[1;32mIn[28], line 2\u001b[0m\n\u001b[0;32m      1\u001b[0m \u001b[38;5;28;01mdel\u001b[39;00m myset\n\u001b[1;32m----> 2\u001b[0m myset\n",
      "\u001b[1;31mNameError\u001b[0m: name 'myset' is not defined"
     ]
    }
   ],
   "source": [
    "del myset\n",
    "myset"
   ]
  },
  {
   "cell_type": "markdown",
   "id": "de6c5342-da72-4720-89b2-67064dba6f47",
   "metadata": {},
   "source": [
    "COPY SET"
   ]
  },
  {
   "cell_type": "code",
   "execution_count": 29,
   "id": "1cdddc83-f3f7-43d3-9e7a-6b7fae6b545c",
   "metadata": {},
   "outputs": [
    {
     "data": {
      "text/plain": [
       "{'eight', 'five', 'four', 'one', 'seven', 'six', 'three', 'two'}"
      ]
     },
     "execution_count": 29,
     "metadata": {},
     "output_type": "execute_result"
    }
   ],
   "source": [
    "myset = {'one','two','three','four','five','six','seven','eight'}\n",
    "myset"
   ]
  },
  {
   "cell_type": "code",
   "execution_count": 30,
   "id": "9036cc16-cc19-4a71-a413-ef9f8479541b",
   "metadata": {},
   "outputs": [
    {
     "data": {
      "text/plain": [
       "{'eight', 'five', 'four', 'one', 'seven', 'six', 'three', 'two'}"
      ]
     },
     "execution_count": 30,
     "metadata": {},
     "output_type": "execute_result"
    }
   ],
   "source": [
    "myset1 = myset\n",
    "myset1"
   ]
  },
  {
   "cell_type": "code",
   "execution_count": 31,
   "id": "3df464ff-28a9-4302-acbd-55cf4df3c0ad",
   "metadata": {},
   "outputs": [
    {
     "data": {
      "text/plain": [
       "(2116749962688, 2116749962688)"
      ]
     },
     "execution_count": 31,
     "metadata": {},
     "output_type": "execute_result"
    }
   ],
   "source": [
    "id(myset), id(myset1)"
   ]
  },
  {
   "cell_type": "code",
   "execution_count": 32,
   "id": "43bafba8-d724-44fd-90e2-66a3658566c2",
   "metadata": {},
   "outputs": [
    {
     "data": {
      "text/plain": [
       "{'eight', 'five', 'four', 'one', 'seven', 'six', 'three', 'two'}"
      ]
     },
     "execution_count": 32,
     "metadata": {},
     "output_type": "execute_result"
    }
   ],
   "source": [
    "my_set = myset.copy()\n",
    "my_set"
   ]
  },
  {
   "cell_type": "code",
   "execution_count": 33,
   "id": "3de1857c-e389-42c9-a1aa-cac3d20fc68e",
   "metadata": {},
   "outputs": [
    {
     "data": {
      "text/plain": [
       "2116749964256"
      ]
     },
     "execution_count": 33,
     "metadata": {},
     "output_type": "execute_result"
    }
   ],
   "source": [
    "id(my_set)"
   ]
  },
  {
   "cell_type": "code",
   "execution_count": 34,
   "id": "886ea510-593d-4b0a-9e6a-51972fe818fc",
   "metadata": {},
   "outputs": [
    {
     "data": {
      "text/plain": [
       "{'eight', 'five', 'four', 'nine', 'one', 'seven', 'six', 'three', 'two'}"
      ]
     },
     "execution_count": 34,
     "metadata": {},
     "output_type": "execute_result"
    }
   ],
   "source": [
    "myset.add('nine')\n",
    "myset"
   ]
  },
  {
   "cell_type": "code",
   "execution_count": 35,
   "id": "90007ee1-c3aa-4a11-a8b3-81bce3260f48",
   "metadata": {},
   "outputs": [
    {
     "data": {
      "text/plain": [
       "{'eight', 'five', 'four', 'nine', 'one', 'seven', 'six', 'three', 'two'}"
      ]
     },
     "execution_count": 35,
     "metadata": {},
     "output_type": "execute_result"
    }
   ],
   "source": [
    "myset1     "
   ]
  },
  {
   "cell_type": "code",
   "execution_count": 36,
   "id": "86acf9be-f4f3-4d62-944d-6bc7cbbf484b",
   "metadata": {},
   "outputs": [
    {
     "data": {
      "text/plain": [
       "{'eight', 'five', 'four', 'one', 'seven', 'six', 'three', 'two'}"
      ]
     },
     "execution_count": 36,
     "metadata": {},
     "output_type": "execute_result"
    }
   ],
   "source": [
    "my_set"
   ]
  },
  {
   "cell_type": "markdown",
   "id": "40f3d544-5027-4208-b691-a3e605904046",
   "metadata": {},
   "source": [
    "SET OPERATIONS"
   ]
  },
  {
   "cell_type": "markdown",
   "id": "90efade2-a460-4f93-bd63-9e18f92f41a3",
   "metadata": {},
   "source": [
    "UNION"
   ]
  },
  {
   "cell_type": "code",
   "execution_count": 41,
   "id": "91f3dffc-4795-440b-9209-e45f05ed46d9",
   "metadata": {},
   "outputs": [
    {
     "data": {
      "text/plain": [
       "{1, 2, 3, 4, 5, 6, 7, 8}"
      ]
     },
     "execution_count": 41,
     "metadata": {},
     "output_type": "execute_result"
    }
   ],
   "source": [
    "A = {1,2,3,4,5}\n",
    "B = {4,5,6,7,8}\n",
    "C = {8,9,10}\n",
    "A | B"
   ]
  },
  {
   "cell_type": "code",
   "execution_count": 42,
   "id": "376c497c-14e8-4b71-954f-524ff5318c04",
   "metadata": {},
   "outputs": [
    {
     "data": {
      "text/plain": [
       "{1, 2, 3, 4, 5, 6, 7, 8}"
      ]
     },
     "execution_count": 42,
     "metadata": {},
     "output_type": "execute_result"
    }
   ],
   "source": [
    "A.union(B)"
   ]
  },
  {
   "cell_type": "code",
   "execution_count": 43,
   "id": "24787fae-24b1-41aa-8fde-dcb18b5ae6f6",
   "metadata": {},
   "outputs": [
    {
     "data": {
      "text/plain": [
       "{1, 2, 3, 4, 5, 6, 7, 8, 9, 10}"
      ]
     },
     "execution_count": 43,
     "metadata": {},
     "output_type": "execute_result"
    }
   ],
   "source": [
    "A.union(B,C)"
   ]
  },
  {
   "cell_type": "code",
   "execution_count": 45,
   "id": "4a6f7727-5a89-4513-9db5-62833cb20799",
   "metadata": {},
   "outputs": [
    {
     "data": {
      "text/plain": [
       "{1, 2, 3, 4, 5, 6, 7, 8, 9, 10}"
      ]
     },
     "execution_count": 45,
     "metadata": {},
     "output_type": "execute_result"
    }
   ],
   "source": [
    "A.update(B,C) \n",
    "A"
   ]
  },
  {
   "cell_type": "markdown",
   "id": "d4eb8638-e9b8-4066-bf93-f1fdf8218517",
   "metadata": {},
   "source": [
    "INTERSECTION"
   ]
  },
  {
   "cell_type": "code",
   "execution_count": 46,
   "id": "9c65ca61-3581-45c5-8a46-168386e54769",
   "metadata": {},
   "outputs": [],
   "source": [
    "A = {1,2,3,4,5}\n",
    "B = {4,5,6,7,8}"
   ]
  },
  {
   "cell_type": "code",
   "execution_count": 47,
   "id": "c7418076-3b8a-4115-8d14-e04d6277d208",
   "metadata": {},
   "outputs": [
    {
     "data": {
      "text/plain": [
       "{4, 5}"
      ]
     },
     "execution_count": 47,
     "metadata": {},
     "output_type": "execute_result"
    }
   ],
   "source": [
    "A & B"
   ]
  },
  {
   "cell_type": "code",
   "execution_count": 49,
   "id": "213b7fc1-6286-45fe-b83e-9931a99effab",
   "metadata": {},
   "outputs": [
    {
     "data": {
      "text/plain": [
       "{4, 5}"
      ]
     },
     "execution_count": 49,
     "metadata": {},
     "output_type": "execute_result"
    }
   ],
   "source": [
    "A.intersection(B)    "
   ]
  },
  {
   "cell_type": "code",
   "execution_count": 50,
   "id": "3323366a-9aaf-4dc1-9250-ac446e2df0f1",
   "metadata": {},
   "outputs": [
    {
     "data": {
      "text/plain": [
       "{4, 5}"
      ]
     },
     "execution_count": 50,
     "metadata": {},
     "output_type": "execute_result"
    }
   ],
   "source": [
    "A.intersection_update(B)\n",
    "A"
   ]
  },
  {
   "cell_type": "markdown",
   "id": "9a555825-dbc9-421c-88b3-78336f08aceb",
   "metadata": {},
   "source": [
    "DIFFERENCE"
   ]
  },
  {
   "cell_type": "code",
   "execution_count": 52,
   "id": "e0f2ea22-9ecd-4dd6-a003-088fc4c9cb00",
   "metadata": {},
   "outputs": [],
   "source": [
    "A = {1,2,3,4,5}\n",
    "B = {4,5,6,7,8}"
   ]
  },
  {
   "cell_type": "code",
   "execution_count": 53,
   "id": "b2a6ad64-6b9c-45f3-820a-4d87ab44be7f",
   "metadata": {},
   "outputs": [
    {
     "data": {
      "text/plain": [
       "{1, 2, 3}"
      ]
     },
     "execution_count": 53,
     "metadata": {},
     "output_type": "execute_result"
    }
   ],
   "source": [
    "A-B"
   ]
  },
  {
   "cell_type": "code",
   "execution_count": 54,
   "id": "5d5d4251-a6fa-4cde-81be-6779c0afb38f",
   "metadata": {},
   "outputs": [
    {
     "data": {
      "text/plain": [
       "{1, 2, 3}"
      ]
     },
     "execution_count": 54,
     "metadata": {},
     "output_type": "execute_result"
    }
   ],
   "source": [
    "A.difference(B)"
   ]
  },
  {
   "cell_type": "code",
   "execution_count": 55,
   "id": "5cda2f9d-8b4c-4363-9d35-9a2ecb674329",
   "metadata": {},
   "outputs": [
    {
     "data": {
      "text/plain": [
       "{6, 7, 8}"
      ]
     },
     "execution_count": 55,
     "metadata": {},
     "output_type": "execute_result"
    }
   ],
   "source": [
    "B - A"
   ]
  },
  {
   "cell_type": "code",
   "execution_count": 58,
   "id": "6192a5aa-3de3-475e-b53c-9020470db207",
   "metadata": {},
   "outputs": [
    {
     "data": {
      "text/plain": [
       "{6, 7, 8}"
      ]
     },
     "execution_count": 58,
     "metadata": {},
     "output_type": "execute_result"
    }
   ],
   "source": [
    "B.difference(A)"
   ]
  },
  {
   "cell_type": "code",
   "execution_count": 60,
   "id": "fe91f994-fc1f-48a5-b5e0-f253fd7176a4",
   "metadata": {},
   "outputs": [
    {
     "data": {
      "text/plain": [
       "{6, 7, 8}"
      ]
     },
     "execution_count": 60,
     "metadata": {},
     "output_type": "execute_result"
    }
   ],
   "source": [
    "B.difference_update(A)\n",
    "B\n"
   ]
  },
  {
   "cell_type": "markdown",
   "id": "9282b841-7c72-4119-ac5b-8b864ab00cb0",
   "metadata": {},
   "source": [
    "SYMMETYRIC DIFFERENCE"
   ]
  },
  {
   "cell_type": "code",
   "execution_count": 63,
   "id": "d55137f3-9055-4905-9dcd-eb3ff6f13305",
   "metadata": {},
   "outputs": [],
   "source": [
    "A = {1,2,3,4,5,}\n",
    "B = {4,5,6,7,8}"
   ]
  },
  {
   "cell_type": "code",
   "execution_count": 64,
   "id": "7a8ee90d-f1e3-4fdb-86fd-d5cde502e127",
   "metadata": {},
   "outputs": [
    {
     "data": {
      "text/plain": [
       "{1, 2, 3, 6, 7, 8}"
      ]
     },
     "execution_count": 64,
     "metadata": {},
     "output_type": "execute_result"
    }
   ],
   "source": [
    "A^B"
   ]
  },
  {
   "cell_type": "code",
   "execution_count": 65,
   "id": "3ab19e05-e2bf-4fdf-8b2a-0650554787f1",
   "metadata": {},
   "outputs": [
    {
     "data": {
      "text/plain": [
       "{1, 2, 3, 6, 7, 8}"
      ]
     },
     "execution_count": 65,
     "metadata": {},
     "output_type": "execute_result"
    }
   ],
   "source": [
    "A.symmetric_difference(B)"
   ]
  },
  {
   "cell_type": "code",
   "execution_count": 67,
   "id": "54e79556-d2de-478f-917a-705b7f634b98",
   "metadata": {},
   "outputs": [
    {
     "data": {
      "text/plain": [
       "{1, 2, 3, 6, 7, 8}"
      ]
     },
     "execution_count": 67,
     "metadata": {},
     "output_type": "execute_result"
    }
   ],
   "source": [
    "A.symmetric_difference_update(B)\n",
    "A"
   ]
  },
  {
   "cell_type": "markdown",
   "id": "ce85e5b4-19d9-4dd1-aeb3-5ddf8fbde49e",
   "metadata": {},
   "source": [
    "SUBSET , SUPERSET & DISJOINT"
   ]
  },
  {
   "cell_type": "code",
   "execution_count": 68,
   "id": "22359fac-1029-4059-bfa8-4bf4d536feab",
   "metadata": {},
   "outputs": [],
   "source": [
    "A = {1,2,3,4,5,6,7,8,9}\n",
    "B = {3,4,5,6,7,8,}\n",
    "C = {10,20,30,40}"
   ]
  },
  {
   "cell_type": "code",
   "execution_count": 69,
   "id": "3f7aabb9-1dec-450e-b8be-950338e41220",
   "metadata": {},
   "outputs": [
    {
     "data": {
      "text/plain": [
       "True"
      ]
     },
     "execution_count": 69,
     "metadata": {},
     "output_type": "execute_result"
    }
   ],
   "source": [
    "B.issubset(A)"
   ]
  },
  {
   "cell_type": "code",
   "execution_count": 70,
   "id": "b33468b2-7b0c-4dc2-a71f-d0674b08df7d",
   "metadata": {},
   "outputs": [
    {
     "data": {
      "text/plain": [
       "True"
      ]
     },
     "execution_count": 70,
     "metadata": {},
     "output_type": "execute_result"
    }
   ],
   "source": [
    "A.issuperset(B)"
   ]
  },
  {
   "cell_type": "code",
   "execution_count": 71,
   "id": "f1d69d43-a16b-4671-871a-416400f16a57",
   "metadata": {},
   "outputs": [
    {
     "data": {
      "text/plain": [
       "True"
      ]
     },
     "execution_count": 71,
     "metadata": {},
     "output_type": "execute_result"
    }
   ],
   "source": [
    "C.isdisjoint(A)"
   ]
  },
  {
   "cell_type": "code",
   "execution_count": 73,
   "id": "09e6aee6-3361-45f4-a366-58da18277300",
   "metadata": {},
   "outputs": [
    {
     "data": {
      "text/plain": [
       "False"
      ]
     },
     "execution_count": 73,
     "metadata": {},
     "output_type": "execute_result"
    }
   ],
   "source": [
    "B.isdisjoint(A)"
   ]
  },
  {
   "cell_type": "markdown",
   "id": "6e9bc9ef-7363-4530-bba0-14a3b14f80b0",
   "metadata": {},
   "source": [
    "OTHER BUILTIN FUNCTIONS"
   ]
  },
  {
   "cell_type": "code",
   "execution_count": 74,
   "id": "ebe0b3f9-2444-4586-9a6f-71ad1c0d584e",
   "metadata": {},
   "outputs": [
    {
     "data": {
      "text/plain": [
       "{1, 2, 3, 4, 5, 6, 7, 8, 9}"
      ]
     },
     "execution_count": 74,
     "metadata": {},
     "output_type": "execute_result"
    }
   ],
   "source": [
    "A"
   ]
  },
  {
   "cell_type": "code",
   "execution_count": 75,
   "id": "ad2be5e6-2909-45ec-8b26-e5afaf2c1021",
   "metadata": {},
   "outputs": [
    {
     "data": {
      "text/plain": [
       "45"
      ]
     },
     "execution_count": 75,
     "metadata": {},
     "output_type": "execute_result"
    }
   ],
   "source": [
    "sum(A)"
   ]
  },
  {
   "cell_type": "code",
   "execution_count": 76,
   "id": "6b6f5696-b1fb-4722-a50e-7893ce2d087b",
   "metadata": {},
   "outputs": [
    {
     "data": {
      "text/plain": [
       "9"
      ]
     },
     "execution_count": 76,
     "metadata": {},
     "output_type": "execute_result"
    }
   ],
   "source": [
    "max(A)"
   ]
  },
  {
   "cell_type": "code",
   "execution_count": 77,
   "id": "e4688b55-f70c-4d2e-813a-f846875ce67e",
   "metadata": {},
   "outputs": [
    {
     "data": {
      "text/plain": [
       "1"
      ]
     },
     "execution_count": 77,
     "metadata": {},
     "output_type": "execute_result"
    }
   ],
   "source": [
    "min(A)"
   ]
  },
  {
   "cell_type": "code",
   "execution_count": 78,
   "id": "e5308166-9da6-4e93-bd2b-4470bfb517be",
   "metadata": {},
   "outputs": [
    {
     "data": {
      "text/plain": [
       "9"
      ]
     },
     "execution_count": 78,
     "metadata": {},
     "output_type": "execute_result"
    }
   ],
   "source": [
    "len(A)"
   ]
  },
  {
   "cell_type": "code",
   "execution_count": 79,
   "id": "40d2abb9-c766-49e4-92bb-b65d9aa3ec0a",
   "metadata": {},
   "outputs": [
    {
     "data": {
      "text/plain": [
       "[(0, 1), (1, 2), (2, 3), (3, 4), (4, 5), (5, 6), (6, 7), (7, 8), (8, 9)]"
      ]
     },
     "execution_count": 79,
     "metadata": {},
     "output_type": "execute_result"
    }
   ],
   "source": [
    "list(enumerate(A))"
   ]
  },
  {
   "cell_type": "code",
   "execution_count": 81,
   "id": "2f472a55-c848-411a-9ed3-b94880794966",
   "metadata": {},
   "outputs": [],
   "source": [
    "D = sorted(A,reverse=True)"
   ]
  },
  {
   "cell_type": "code",
   "execution_count": 82,
   "id": "7585f896-c4b4-4a72-bc11-a5bf5cce6980",
   "metadata": {},
   "outputs": [
    {
     "data": {
      "text/plain": [
       "[9, 8, 7, 6, 5, 4, 3, 2, 1]"
      ]
     },
     "execution_count": 82,
     "metadata": {},
     "output_type": "execute_result"
    }
   ],
   "source": [
    "D"
   ]
  },
  {
   "cell_type": "code",
   "execution_count": 83,
   "id": "1aeadda8-37dd-483a-bd68-96ee9a432bb7",
   "metadata": {},
   "outputs": [
    {
     "data": {
      "text/plain": [
       "[1, 2, 3, 4, 5, 6, 7, 8, 9]"
      ]
     },
     "execution_count": 83,
     "metadata": {},
     "output_type": "execute_result"
    }
   ],
   "source": [
    "sorted(D)"
   ]
  },
  {
   "cell_type": "markdown",
   "id": "5135085f-88f1-4c3f-befa-f74c92dca948",
   "metadata": {},
   "source": [
    "DICTIONARY"
   ]
  },
  {
   "cell_type": "markdown",
   "id": "35e73485-2b18-4d0f-854d-d349d7be8242",
   "metadata": {},
   "source": [
    "Create Dictionary"
   ]
  },
  {
   "cell_type": "code",
   "execution_count": 84,
   "id": "2aa390bf-411d-49eb-a1f8-07413e3a2d9c",
   "metadata": {},
   "outputs": [
    {
     "data": {
      "text/plain": [
       "{}"
      ]
     },
     "execution_count": 84,
     "metadata": {},
     "output_type": "execute_result"
    }
   ],
   "source": [
    "mydict = dict()\n",
    "mydict"
   ]
  },
  {
   "cell_type": "code",
   "execution_count": 86,
   "id": "59b10e2f-7f3e-4e4e-9949-cb04ab165b87",
   "metadata": {},
   "outputs": [
    {
     "data": {
      "text/plain": [
       "{}"
      ]
     },
     "execution_count": 86,
     "metadata": {},
     "output_type": "execute_result"
    }
   ],
   "source": [
    "mydict={}\n",
    "mydict"
   ]
  },
  {
   "cell_type": "code",
   "execution_count": 87,
   "id": "63345d18-98ee-44dc-afb5-22102e4542af",
   "metadata": {},
   "outputs": [
    {
     "data": {
      "text/plain": [
       "{1: 'one', 2: 'two', 3: 'three'}"
      ]
     },
     "execution_count": 87,
     "metadata": {},
     "output_type": "execute_result"
    }
   ],
   "source": [
    "mydict = {1:'one',2:'two',3:'three'}\n",
    "mydict"
   ]
  },
  {
   "cell_type": "code",
   "execution_count": 90,
   "id": "1ecbb3e3-6114-43f4-8cbd-d519b19a2dc3",
   "metadata": {},
   "outputs": [
    {
     "data": {
      "text/plain": [
       "{1: 'one', 2: 'two', 3: 'three'}"
      ]
     },
     "execution_count": 90,
     "metadata": {},
     "output_type": "execute_result"
    }
   ],
   "source": [
    "mydict = ({1:'one' , 2:'two' , 3:'three'})\n",
    "mydict"
   ]
  },
  {
   "cell_type": "code",
   "execution_count": 92,
   "id": "94c6ae10-71f1-4e00-a3db-7cd2a28efeed",
   "metadata": {},
   "outputs": [
    {
     "data": {
      "text/plain": [
       "{'A': 'one', 'B': 'two', 'C': 'three'}"
      ]
     },
     "execution_count": 92,
     "metadata": {},
     "output_type": "execute_result"
    }
   ],
   "source": [
    "mydict = {'A':'one','B':'two','C':'three'}\n",
    "mydict"
   ]
  },
  {
   "cell_type": "code",
   "execution_count": 93,
   "id": "2030a0f0-ce00-484d-ab6e-b5457cc3f2e4",
   "metadata": {},
   "outputs": [
    {
     "data": {
      "text/plain": [
       "{1: 'one', 'A': 'two', 3: 'three'}"
      ]
     },
     "execution_count": 93,
     "metadata": {},
     "output_type": "execute_result"
    }
   ],
   "source": [
    "mydict = {1:'one','A':'two',3:'three'}\n",
    "mydict"
   ]
  },
  {
   "cell_type": "code",
   "execution_count": 97,
   "id": "e1a8c783-28a9-4275-bcfc-cc776897ae9d",
   "metadata": {},
   "outputs": [
    {
     "data": {
      "text/plain": [
       "dict_keys([1, 'A', 3])"
      ]
     },
     "execution_count": 97,
     "metadata": {},
     "output_type": "execute_result"
    }
   ],
   "source": [
    "mydict.keys()"
   ]
  },
  {
   "cell_type": "code",
   "execution_count": 98,
   "id": "c27b0b29-6610-48eb-a300-d1bed8dcd75a",
   "metadata": {},
   "outputs": [
    {
     "data": {
      "text/plain": [
       "dict_values(['one', 'two', 'three'])"
      ]
     },
     "execution_count": 98,
     "metadata": {},
     "output_type": "execute_result"
    }
   ],
   "source": [
    "mydict.values()"
   ]
  },
  {
   "cell_type": "code",
   "execution_count": 99,
   "id": "f20d15a5-dd79-40b0-81cd-54868e6774c4",
   "metadata": {},
   "outputs": [
    {
     "data": {
      "text/plain": [
       "dict_items([(1, 'one'), ('A', 'two'), (3, 'three')])"
      ]
     },
     "execution_count": 99,
     "metadata": {},
     "output_type": "execute_result"
    }
   ],
   "source": [
    "mydict.items()"
   ]
  },
  {
   "cell_type": "code",
   "execution_count": 100,
   "id": "1205ac61-8d02-4140-ab6f-6a1279c594f7",
   "metadata": {},
   "outputs": [
    {
     "data": {
      "text/plain": [
       "{1: 'one', 2: 'two', 'A': ['asif', 'john', 'Maria']}"
      ]
     },
     "execution_count": 100,
     "metadata": {},
     "output_type": "execute_result"
    }
   ],
   "source": [
    "mydict = {1:'one',2:'two','A':['asif','john','Maria']}\n",
    "mydict"
   ]
  },
  {
   "cell_type": "code",
   "execution_count": 103,
   "id": "1dc51da0-4df9-4bf9-809b-b6cc3d2d0af2",
   "metadata": {},
   "outputs": [
    {
     "data": {
      "text/plain": [
       "{1: 'one',\n",
       " 2: 'two',\n",
       " 'A': ['asif', 'john', 'maria'],\n",
       " 'B': ('Bat', 'cat', 'hat')}"
      ]
     },
     "execution_count": 103,
     "metadata": {},
     "output_type": "execute_result"
    }
   ],
   "source": [
    "mydict = {1:'one',2:'two','A':['asif','john','maria'],'B':('Bat','cat','hat')}\n",
    "mydict"
   ]
  },
  {
   "cell_type": "code",
   "execution_count": 104,
   "id": "e19f0397-fdb8-4126-b169-99db72ca2ba9",
   "metadata": {},
   "outputs": [
    {
     "data": {
      "text/plain": [
       "{1: 'one',\n",
       " 2: 'two',\n",
       " 'A': {'Name': 'asif', 'Age': 20},\n",
       " 'B': ('Bat', 'Cat', 'hat')}"
      ]
     },
     "execution_count": 104,
     "metadata": {},
     "output_type": "execute_result"
    }
   ],
   "source": [
    "mydict = {1:'one',2:'two','A':{'Name':'asif','Age':20},'B':('Bat','Cat','hat')}\n",
    "mydict"
   ]
  },
  {
   "cell_type": "code",
   "execution_count": 105,
   "id": "d87902ae-4da3-4639-aa6c-2d0deed68ac7",
   "metadata": {},
   "outputs": [
    {
     "data": {
      "text/plain": [
       "{'b': None, 'a': None, 'c': None, 'd': None}"
      ]
     },
     "execution_count": 105,
     "metadata": {},
     "output_type": "execute_result"
    }
   ],
   "source": [
    "keys = {'a','b','c','d'}\n",
    "mydict3 = dict.fromkeys(keys)\n",
    "mydict3"
   ]
  },
  {
   "cell_type": "code",
   "execution_count": 106,
   "id": "a839c347-08b5-4786-81b2-aa4c07085179",
   "metadata": {},
   "outputs": [
    {
     "data": {
      "text/plain": [
       "{'b': 10, 'a': 10, 'c': 10, 'd': 10}"
      ]
     },
     "execution_count": 106,
     "metadata": {},
     "output_type": "execute_result"
    }
   ],
   "source": [
    "keys = {'a','b','c','d'}\n",
    "value= 10\n",
    "mydict3 = dict.fromkeys(keys , value)\n",
    "mydict3"
   ]
  },
  {
   "cell_type": "code",
   "execution_count": 107,
   "id": "6bb8cec3-161a-41a9-9169-c305921d6be0",
   "metadata": {},
   "outputs": [
    {
     "data": {
      "text/plain": [
       "{'b': [10, 20, 30], 'a': [10, 20, 30], 'c': [10, 20, 30], 'd': [10, 20, 30]}"
      ]
     },
     "execution_count": 107,
     "metadata": {},
     "output_type": "execute_result"
    }
   ],
   "source": [
    "keys = {'a','b','c','d'}\n",
    "value = [10,20,30]\n",
    "mydict3 = dict.fromkeys(keys , value)\n",
    "mydict3"
   ]
  },
  {
   "cell_type": "code",
   "execution_count": 108,
   "id": "b44b2e11-d1db-4160-b808-e5595637fdb6",
   "metadata": {},
   "outputs": [
    {
     "data": {
      "text/plain": [
       "{'b': [10, 20, 30, 40],\n",
       " 'a': [10, 20, 30, 40],\n",
       " 'c': [10, 20, 30, 40],\n",
       " 'd': [10, 20, 30, 40]}"
      ]
     },
     "execution_count": 108,
     "metadata": {},
     "output_type": "execute_result"
    }
   ],
   "source": [
    "value.append(40)\n",
    "mydict3"
   ]
  },
  {
   "cell_type": "markdown",
   "id": "8532a811-80d9-4ed0-b819-f3faedc5b65e",
   "metadata": {},
   "source": [
    "ACCESSING ITEMS"
   ]
  },
  {
   "cell_type": "code",
   "execution_count": 109,
   "id": "5c567466-6b07-459a-b6a6-7b236136ecb9",
   "metadata": {},
   "outputs": [
    {
     "data": {
      "text/plain": [
       "{1: 'one', 2: 'two', 3: 'three', 4: 'four'}"
      ]
     },
     "execution_count": 109,
     "metadata": {},
     "output_type": "execute_result"
    }
   ],
   "source": [
    "mydict = {1:'one',2:'two',3:'three',4:'four'}\n",
    "mydict"
   ]
  },
  {
   "cell_type": "code",
   "execution_count": 110,
   "id": "c41442f1-653e-4e60-b2f8-12bdba7308bf",
   "metadata": {},
   "outputs": [
    {
     "data": {
      "text/plain": [
       "'one'"
      ]
     },
     "execution_count": 110,
     "metadata": {},
     "output_type": "execute_result"
    }
   ],
   "source": [
    "mydict[1]"
   ]
  },
  {
   "cell_type": "code",
   "execution_count": 111,
   "id": "48997add-6385-463d-9f3d-c3fccac13442",
   "metadata": {},
   "outputs": [
    {
     "data": {
      "text/plain": [
       "'one'"
      ]
     },
     "execution_count": 111,
     "metadata": {},
     "output_type": "execute_result"
    }
   ],
   "source": [
    "mydict.get(1)"
   ]
  },
  {
   "cell_type": "code",
   "execution_count": 113,
   "id": "46f5a6b8-c844-4880-aa06-9122e3876792",
   "metadata": {},
   "outputs": [
    {
     "data": {
      "text/plain": [
       "{'Name': 'Asif', 'ID': 74123, 'DOB': 1991, 'job': 'analyst'}"
      ]
     },
     "execution_count": 113,
     "metadata": {},
     "output_type": "execute_result"
    }
   ],
   "source": [
    "mydict1 = {'Name':'Asif', 'ID':74123 , 'DOB':1991 , 'job':'analyst'}\n",
    "mydict1 "
   ]
  },
  {
   "cell_type": "code",
   "execution_count": 114,
   "id": "54046270-a463-4e98-a02f-26d94dfda981",
   "metadata": {},
   "outputs": [
    {
     "data": {
      "text/plain": [
       "'Asif'"
      ]
     },
     "execution_count": 114,
     "metadata": {},
     "output_type": "execute_result"
    }
   ],
   "source": [
    "mydict1['Name']"
   ]
  },
  {
   "cell_type": "code",
   "execution_count": 115,
   "id": "b45d7dba-0091-4699-a757-c3f256201fa9",
   "metadata": {},
   "outputs": [
    {
     "data": {
      "text/plain": [
       "'analyst'"
      ]
     },
     "execution_count": 115,
     "metadata": {},
     "output_type": "execute_result"
    }
   ],
   "source": [
    "mydict1.get('job')"
   ]
  },
  {
   "cell_type": "markdown",
   "id": "0554fd50-f859-4051-b5ae-9686e78e899c",
   "metadata": {},
   "source": [
    "ADD , REMOVE & CHANGE ITEMS"
   ]
  },
  {
   "cell_type": "code",
   "execution_count": 121,
   "id": "ca034848-2e7b-4a9c-8664-6d89b03bfca2",
   "metadata": {},
   "outputs": [
    {
     "data": {
      "text/plain": [
       "{'name': 'Asif', 'ID': 12345, 'DOB': 1991, 'Address': 'Hilsinki'}"
      ]
     },
     "execution_count": 121,
     "metadata": {},
     "output_type": "execute_result"
    }
   ],
   "source": [
    "mydict1 = {'name':'Asif' , 'ID':12345 , 'DOB':1991 , 'Address' : 'Hilsinki'}\n",
    "mydict1"
   ]
  },
  {
   "cell_type": "code",
   "execution_count": 123,
   "id": "907bb2de-0fad-4467-8d34-dda58813695f",
   "metadata": {},
   "outputs": [
    {
     "data": {
      "text/plain": [
       "{'name': 'Asif', 'ID': 12345, 'DOB': 1992, 'Address': 'Delhi'}"
      ]
     },
     "execution_count": 123,
     "metadata": {},
     "output_type": "execute_result"
    }
   ],
   "source": [
    "mydict1['DOB'] = 1992\n",
    "mydict1['Address'] = 'Delhi'\n",
    "mydict1"
   ]
  },
  {
   "cell_type": "code",
   "execution_count": 127,
   "id": "1d370900-276f-48bc-93b8-6fecdaa544bc",
   "metadata": {},
   "outputs": [
    {
     "data": {
      "text/plain": [
       "{'name': 'Asif', 'ID': 12345, 'DOB': 1992, 'Address': 'Delhi'}"
      ]
     },
     "execution_count": 127,
     "metadata": {},
     "output_type": "execute_result"
    }
   ],
   "source": [
    "dict1 = {'DOB':1995}\n",
    "mydict.update(dict1)\n",
    "mydict1"
   ]
  },
  {
   "cell_type": "code",
   "execution_count": 129,
   "id": "5346e906-e2b5-451c-b6a0-20a7823c741c",
   "metadata": {},
   "outputs": [
    {
     "data": {
      "text/plain": [
       "{'name': 'Asif',\n",
       " 'ID': 12345,\n",
       " 'DOB': 1992,\n",
       " 'Address': 'Delhi',\n",
       " 'job': 'Analyst'}"
      ]
     },
     "execution_count": 129,
     "metadata": {},
     "output_type": "execute_result"
    }
   ],
   "source": [
    "mydict1 ['job'] = 'Analyst'\n",
    "mydict1"
   ]
  },
  {
   "cell_type": "code",
   "execution_count": 130,
   "id": "45317849-b7a3-4904-9265-27a6c4795a9a",
   "metadata": {},
   "outputs": [
    {
     "data": {
      "text/plain": [
       "{'name': 'Asif', 'ID': 12345, 'DOB': 1992, 'Address': 'Delhi'}"
      ]
     },
     "execution_count": 130,
     "metadata": {},
     "output_type": "execute_result"
    }
   ],
   "source": [
    "mydict1.pop('job')\n",
    "mydict1"
   ]
  },
  {
   "cell_type": "code",
   "execution_count": 131,
   "id": "a62aeb7d-9771-4ab6-9eb4-bc944f8321da",
   "metadata": {},
   "outputs": [
    {
     "data": {
      "text/plain": [
       "('Address', 'Delhi')"
      ]
     },
     "execution_count": 131,
     "metadata": {},
     "output_type": "execute_result"
    }
   ],
   "source": [
    "mydict1.popitem()"
   ]
  },
  {
   "cell_type": "code",
   "execution_count": 132,
   "id": "5a242b8a-915d-47b4-b8f5-d5e3d93a8157",
   "metadata": {},
   "outputs": [
    {
     "data": {
      "text/plain": [
       "{'name': 'Asif', 'ID': 12345, 'DOB': 1992}"
      ]
     },
     "execution_count": 132,
     "metadata": {},
     "output_type": "execute_result"
    }
   ],
   "source": [
    "mydict1"
   ]
  },
  {
   "cell_type": "code",
   "execution_count": 133,
   "id": "5ca43031-409a-4f5e-8128-4939000638f1",
   "metadata": {},
   "outputs": [
    {
     "data": {
      "text/plain": [
       "{'name': 'Asif', 'DOB': 1992}"
      ]
     },
     "execution_count": 133,
     "metadata": {},
     "output_type": "execute_result"
    }
   ],
   "source": [
    "del[mydict1['ID']]\n",
    "mydict1"
   ]
  },
  {
   "cell_type": "code",
   "execution_count": 134,
   "id": "b93f2514-2f62-4748-838a-516f6d5052a9",
   "metadata": {},
   "outputs": [
    {
     "data": {
      "text/plain": [
       "{}"
      ]
     },
     "execution_count": 134,
     "metadata": {},
     "output_type": "execute_result"
    }
   ],
   "source": [
    "mydict1.clear()\n",
    "mydict1"
   ]
  },
  {
   "cell_type": "code",
   "execution_count": 137,
   "id": "3be5d25b-6cd5-45a4-ba52-a68e5d1e7bf2",
   "metadata": {},
   "outputs": [
    {
     "ename": "NameError",
     "evalue": "name 'mydict1' is not defined",
     "output_type": "error",
     "traceback": [
      "\u001b[1;31m---------------------------------------------------------------------------\u001b[0m",
      "\u001b[1;31mNameError\u001b[0m                                 Traceback (most recent call last)",
      "Cell \u001b[1;32mIn[137], line 1\u001b[0m\n\u001b[1;32m----> 1\u001b[0m \u001b[38;5;28;01mdel\u001b[39;00m mydict1\n\u001b[0;32m      2\u001b[0m mydict\n",
      "\u001b[1;31mNameError\u001b[0m: name 'mydict1' is not defined"
     ]
    }
   ],
   "source": [
    "del mydict1\n",
    "mydict"
   ]
  },
  {
   "cell_type": "markdown",
   "id": "2f12a5bd-0d84-4556-b169-7901eb216682",
   "metadata": {},
   "source": [
    "COPY DICTIONARY"
   ]
  },
  {
   "cell_type": "code",
   "execution_count": 138,
   "id": "cf71d964-0620-4a21-961b-c31970cfef06",
   "metadata": {},
   "outputs": [
    {
     "data": {
      "text/plain": [
       "{'Nmae': 'asif', 'ID': 12345, 'DOB': 1991, 'address': 'Hilsinki'}"
      ]
     },
     "execution_count": 138,
     "metadata": {},
     "output_type": "execute_result"
    }
   ],
   "source": [
    "mydict = {'Nmae':'asif','ID':12345,'DOB':1991,'address':'Hilsinki'}\n",
    "mydict"
   ]
  },
  {
   "cell_type": "code",
   "execution_count": 139,
   "id": "c3184d1c-bf0f-4aac-b57c-91bb868ce758",
   "metadata": {},
   "outputs": [],
   "source": [
    "mydict1=mydict"
   ]
  },
  {
   "cell_type": "code",
   "execution_count": 140,
   "id": "b62884b9-9387-4074-a229-6a120e859610",
   "metadata": {},
   "outputs": [
    {
     "data": {
      "text/plain": [
       "(2116770934848, 2116770934848)"
      ]
     },
     "execution_count": 140,
     "metadata": {},
     "output_type": "execute_result"
    }
   ],
   "source": [
    "id(mydict),id(mydict1)"
   ]
  },
  {
   "cell_type": "code",
   "execution_count": 142,
   "id": "3d8c4c0a-4b27-4015-be6e-3cd5b7864d7d",
   "metadata": {},
   "outputs": [],
   "source": [
    "mydict2 =mydict.copy ()"
   ]
  },
  {
   "cell_type": "code",
   "execution_count": 143,
   "id": "6276edf5-9c71-46b5-8d8e-ab722c9589b4",
   "metadata": {},
   "outputs": [
    {
     "data": {
      "text/plain": [
       "(2116770934848, 2116770934848)"
      ]
     },
     "execution_count": 143,
     "metadata": {},
     "output_type": "execute_result"
    }
   ],
   "source": [
    "id(mydict),id(mydict1)"
   ]
  },
  {
   "cell_type": "code",
   "execution_count": 144,
   "id": "4e3da97c-432e-43b5-9215-4a1a1580b0e8",
   "metadata": {},
   "outputs": [
    {
     "data": {
      "text/plain": [
       "2116770915392"
      ]
     },
     "execution_count": 144,
     "metadata": {},
     "output_type": "execute_result"
    }
   ],
   "source": [
    "id(mydict2)"
   ]
  },
  {
   "cell_type": "code",
   "execution_count": 145,
   "id": "061fe98d-d726-4228-8c4b-2c639ed76b5e",
   "metadata": {},
   "outputs": [],
   "source": [
    "mydict['Address'] = 'Mumbai'"
   ]
  },
  {
   "cell_type": "code",
   "execution_count": 146,
   "id": "24ec3c89-268e-4d26-9fd3-5db79b9da9ff",
   "metadata": {},
   "outputs": [
    {
     "data": {
      "text/plain": [
       "{'Nmae': 'asif',\n",
       " 'ID': 12345,\n",
       " 'DOB': 1991,\n",
       " 'address': 'Hilsinki',\n",
       " 'Address': 'Mumbai'}"
      ]
     },
     "execution_count": 146,
     "metadata": {},
     "output_type": "execute_result"
    }
   ],
   "source": [
    "mydict"
   ]
  },
  {
   "cell_type": "code",
   "execution_count": 147,
   "id": "1f2d3655-aff3-47eb-995a-fb58a254491b",
   "metadata": {},
   "outputs": [
    {
     "data": {
      "text/plain": [
       "{'Nmae': 'asif',\n",
       " 'ID': 12345,\n",
       " 'DOB': 1991,\n",
       " 'address': 'Hilsinki',\n",
       " 'Address': 'Mumbai'}"
      ]
     },
     "execution_count": 147,
     "metadata": {},
     "output_type": "execute_result"
    }
   ],
   "source": [
    "mydict1"
   ]
  },
  {
   "cell_type": "code",
   "execution_count": 148,
   "id": "5eabf020-29e5-4300-968c-624265360be4",
   "metadata": {},
   "outputs": [
    {
     "data": {
      "text/plain": [
       "{'Nmae': 'asif', 'ID': 12345, 'DOB': 1991, 'address': 'Hilsinki'}"
      ]
     },
     "execution_count": 148,
     "metadata": {},
     "output_type": "execute_result"
    }
   ],
   "source": [
    "mydict2"
   ]
  },
  {
   "cell_type": "markdown",
   "id": "e7fb4382-4877-4436-aed3-6a6e180f0f67",
   "metadata": {},
   "source": [
    "LOOP THROUGH A DICTIONARY"
   ]
  },
  {
   "cell_type": "code",
   "execution_count": 152,
   "id": "a9878850-bd0f-4ba1-8158-6a73906c479c",
   "metadata": {},
   "outputs": [
    {
     "data": {
      "text/plain": [
       "{'Name': 'Asif',\n",
       " 'ID': 12345,\n",
       " 'DOB': 1991,\n",
       " 'Address': 'Hilsinki',\n",
       " 'Job': 'Analyst'}"
      ]
     },
     "execution_count": 152,
     "metadata": {},
     "output_type": "execute_result"
    }
   ],
   "source": [
    "mydict1 = {'Name':'Asif' , 'ID':12345 , 'DOB':1991 , 'Address':'Hilsinki' , 'Job':'Analyst'}\n",
    "mydict1"
   ]
  },
  {
   "cell_type": "code",
   "execution_count": 153,
   "id": "34c4631c-f4cb-43cd-9cf0-04c0e7ad0f7a",
   "metadata": {},
   "outputs": [
    {
     "name": "stdout",
     "output_type": "stream",
     "text": [
      "Name : Asif\n",
      "ID : 12345\n",
      "DOB : 1991\n",
      "Address : Hilsinki\n",
      "Job : Analyst\n"
     ]
    }
   ],
   "source": [
    "for i in mydict1:\n",
    "    print(i ,':' ,mydict[i])"
   ]
  },
  {
   "cell_type": "code",
   "execution_count": 154,
   "id": "d0c02f4d-35e5-487c-a452-4374aeb1ac12",
   "metadata": {},
   "outputs": [
    {
     "name": "stdout",
     "output_type": "stream",
     "text": [
      "Asif\n",
      "12345\n",
      "1991\n",
      "Hilsinki\n",
      "Analyst\n"
     ]
    }
   ],
   "source": [
    "for i in mydict:\n",
    "    print(mydict[i])\n",
    "    "
   ]
  },
  {
   "cell_type": "markdown",
   "id": "47923ee5-4efc-488b-9670-e489f089dfcf",
   "metadata": {},
   "source": [
    "DICTIONARY MEMBERSHIP"
   ]
  },
  {
   "cell_type": "code",
   "execution_count": 155,
   "id": "8c4b2564-23ec-4315-8151-7dbe812e6034",
   "metadata": {},
   "outputs": [
    {
     "data": {
      "text/plain": [
       "{'Name': 'Asif', 'ID': 12345, 'DOB': 1991, 'Job': 'Analyst'}"
      ]
     },
     "execution_count": 155,
     "metadata": {},
     "output_type": "execute_result"
    }
   ],
   "source": [
    "mydict = {'Name':'Asif' , 'ID':12345 , 'DOB':1991 , 'Job':'Analyst'}\n",
    "mydict"
   ]
  },
  {
   "cell_type": "code",
   "execution_count": 156,
   "id": "86eac7e5-7c6b-427c-b8f8-1a17c57c2ff3",
   "metadata": {},
   "outputs": [
    {
     "data": {
      "text/plain": [
       "True"
      ]
     },
     "execution_count": 156,
     "metadata": {},
     "output_type": "execute_result"
    }
   ],
   "source": [
    "'Name'in mydict1"
   ]
  },
  {
   "cell_type": "code",
   "execution_count": 157,
   "id": "958eab8e-9a65-43b5-9594-a6f039e3e90c",
   "metadata": {},
   "outputs": [
    {
     "data": {
      "text/plain": [
       "False"
      ]
     },
     "execution_count": 157,
     "metadata": {},
     "output_type": "execute_result"
    }
   ],
   "source": [
    "'Asif' in mydict"
   ]
  },
  {
   "cell_type": "code",
   "execution_count": 158,
   "id": "535f0713-c173-4df3-aedd-c9ffe11a45f4",
   "metadata": {},
   "outputs": [
    {
     "data": {
      "text/plain": [
       "True"
      ]
     },
     "execution_count": 158,
     "metadata": {},
     "output_type": "execute_result"
    }
   ],
   "source": [
    "'ID' in mydict1"
   ]
  },
  {
   "cell_type": "code",
   "execution_count": 159,
   "id": "11c64cdd-d86b-4f09-bd17-c607e9aea6b1",
   "metadata": {},
   "outputs": [
    {
     "data": {
      "text/plain": [
       "True"
      ]
     },
     "execution_count": 159,
     "metadata": {},
     "output_type": "execute_result"
    }
   ],
   "source": [
    "'Address' in mydict1"
   ]
  },
  {
   "cell_type": "markdown",
   "id": "fb3b8faf-26ba-4ed4-8667-10ad6ee25dfe",
   "metadata": {},
   "source": [
    "ALL/ANY"
   ]
  },
  {
   "cell_type": "code",
   "execution_count": 160,
   "id": "cbc2e004-ecc1-468a-8501-173e6060114f",
   "metadata": {},
   "outputs": [
    {
     "data": {
      "text/plain": [
       "{'Name': 'Asif', 'ID': 12345, 'DOB': 1991, 'Job': 'Analyst'}"
      ]
     },
     "execution_count": 160,
     "metadata": {},
     "output_type": "execute_result"
    }
   ],
   "source": [
    "mydict1 = {'Name':'Asif' , 'ID':12345 , 'DOB':1991 ,'Job': 'Analyst'}\n",
    "mydict1"
   ]
  },
  {
   "cell_type": "code",
   "execution_count": 161,
   "id": "ff63c1c5-2e7b-44e4-9ca5-5bb5c6bfa9b3",
   "metadata": {},
   "outputs": [
    {
     "data": {
      "text/plain": [
       "True"
      ]
     },
     "execution_count": 161,
     "metadata": {},
     "output_type": "execute_result"
    }
   ],
   "source": [
    "all(mydict)"
   ]
  },
  {
   "cell_type": "code",
   "execution_count": null,
   "id": "b586e641-8f70-4d18-8d94-71301f6bf4a5",
   "metadata": {},
   "outputs": [],
   "source": []
  },
  {
   "cell_type": "code",
   "execution_count": null,
   "id": "fa9670d7-1418-4ff4-9423-c50ecbb561bc",
   "metadata": {},
   "outputs": [],
   "source": []
  }
 ],
 "metadata": {
  "kernelspec": {
   "display_name": "Python [conda env:base] *",
   "language": "python",
   "name": "conda-base-py"
  },
  "language_info": {
   "codemirror_mode": {
    "name": "ipython",
    "version": 3
   },
   "file_extension": ".py",
   "mimetype": "text/x-python",
   "name": "python",
   "nbconvert_exporter": "python",
   "pygments_lexer": "ipython3",
   "version": "3.12.7"
  }
 },
 "nbformat": 4,
 "nbformat_minor": 5
}
