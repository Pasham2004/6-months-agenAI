{
 "cells": [
  {
   "cell_type": "code",
   "execution_count": 1,
   "id": "ec00fbf5-55d3-4fbb-929b-51461339737e",
   "metadata": {},
   "outputs": [
    {
     "data": {
      "text/plain": [
       "9"
      ]
     },
     "execution_count": 1,
     "metadata": {},
     "output_type": "execute_result"
    }
   ],
   "source": [
    "9"
   ]
  },
  {
   "cell_type": "code",
   "execution_count": 2,
   "id": "4c31d739-ff0d-4aad-a33c-2aa9e071be2d",
   "metadata": {},
   "outputs": [
    {
     "data": {
      "text/plain": [
       "18"
      ]
     },
     "execution_count": 2,
     "metadata": {},
     "output_type": "execute_result"
    }
   ],
   "source": [
    "9+9"
   ]
  },
  {
   "cell_type": "code",
   "execution_count": 3,
   "id": "45803bc6-55cd-438a-9955-0386716d9381",
   "metadata": {},
   "outputs": [
    {
     "data": {
      "text/plain": [
       "0"
      ]
     },
     "execution_count": 3,
     "metadata": {},
     "output_type": "execute_result"
    }
   ],
   "source": [
    "9-9"
   ]
  },
  {
   "cell_type": "code",
   "execution_count": 4,
   "id": "31d304ba-26c4-465e-a765-3db6c5f64dc0",
   "metadata": {},
   "outputs": [
    {
     "data": {
      "text/plain": [
       "20"
      ]
     },
     "execution_count": 4,
     "metadata": {},
     "output_type": "execute_result"
    }
   ],
   "source": [
    "10*2"
   ]
  },
  {
   "cell_type": "code",
   "execution_count": 5,
   "id": "062bde08-e8c6-4669-ba92-50bd4b1f1bee",
   "metadata": {},
   "outputs": [
    {
     "data": {
      "text/plain": [
       "5.0"
      ]
     },
     "execution_count": 5,
     "metadata": {},
     "output_type": "execute_result"
    }
   ],
   "source": [
    "10/2"
   ]
  },
  {
   "cell_type": "code",
   "execution_count": 6,
   "id": "045ae583-8b60-4ee0-bcb3-ede1c5f13932",
   "metadata": {},
   "outputs": [
    {
     "data": {
      "text/plain": [
       "5"
      ]
     },
     "execution_count": 6,
     "metadata": {},
     "output_type": "execute_result"
    }
   ],
   "source": [
    "10//2"
   ]
  },
  {
   "cell_type": "code",
   "execution_count": 7,
   "id": "d40b013a-8764-4008-8da0-4be1b9ab4234",
   "metadata": {},
   "outputs": [
    {
     "data": {
      "text/plain": [
       "6"
      ]
     },
     "execution_count": 7,
     "metadata": {},
     "output_type": "execute_result"
    }
   ],
   "source": [
    "3*2"
   ]
  },
  {
   "cell_type": "code",
   "execution_count": 8,
   "id": "35cbbc46-0799-4455-938f-93db165ecc48",
   "metadata": {},
   "outputs": [
    {
     "data": {
      "text/plain": [
       "9"
      ]
     },
     "execution_count": 8,
     "metadata": {},
     "output_type": "execute_result"
    }
   ],
   "source": [
    "3**2"
   ]
  },
  {
   "cell_type": "code",
   "execution_count": 9,
   "id": "9040e272-6b56-49cc-8643-075ea875887e",
   "metadata": {},
   "outputs": [
    {
     "data": {
      "text/plain": [
       "27"
      ]
     },
     "execution_count": 9,
     "metadata": {},
     "output_type": "execute_result"
    }
   ],
   "source": [
    "3**3"
   ]
  },
  {
   "cell_type": "code",
   "execution_count": 10,
   "id": "50b81864-8d15-4fbc-8ee9-a25fda0a0c00",
   "metadata": {},
   "outputs": [
    {
     "data": {
      "text/plain": [
       "9"
      ]
     },
     "execution_count": 10,
     "metadata": {},
     "output_type": "execute_result"
    }
   ],
   "source": [
    "  9"
   ]
  },
  {
   "cell_type": "code",
   "execution_count": 11,
   "id": "469292c0-f83f-4169-8ec7-665396b4bc94",
   "metadata": {},
   "outputs": [
    {
     "data": {
      "text/plain": [
       "9"
      ]
     },
     "execution_count": 11,
     "metadata": {},
     "output_type": "execute_result"
    }
   ],
   "source": [
    "_"
   ]
  },
  {
   "cell_type": "code",
   "execution_count": 12,
   "id": "0762cb19-dd5f-4956-808b-d7cdc7f68afd",
   "metadata": {},
   "outputs": [
    {
     "data": {
      "text/plain": [
       "12"
      ]
     },
     "execution_count": 12,
     "metadata": {},
     "output_type": "execute_result"
    }
   ],
   "source": [
    "_+3"
   ]
  },
  {
   "cell_type": "code",
   "execution_count": 13,
   "id": "6fe8c0da-a975-4b87-8321-fa3ca190ce7f",
   "metadata": {},
   "outputs": [
    {
     "data": {
      "text/plain": [
       "15"
      ]
     },
     "execution_count": 13,
     "metadata": {},
     "output_type": "execute_result"
    }
   ],
   "source": [
    "_+3"
   ]
  },
  {
   "cell_type": "code",
   "execution_count": 14,
   "id": "f5015bee-d04d-4d25-914a-59f506efc367",
   "metadata": {},
   "outputs": [
    {
     "data": {
      "text/plain": [
       "12"
      ]
     },
     "execution_count": 14,
     "metadata": {},
     "output_type": "execute_result"
    }
   ],
   "source": [
    "_-3"
   ]
  },
  {
   "cell_type": "code",
   "execution_count": 15,
   "id": "7642b5a7-bc87-45bf-a866-0a11cf9f56e1",
   "metadata": {},
   "outputs": [
    {
     "data": {
      "text/plain": [
       "24"
      ]
     },
     "execution_count": 15,
     "metadata": {},
     "output_type": "execute_result"
    }
   ],
   "source": [
    "3+6*4-2-1"
   ]
  },
  {
   "cell_type": "code",
   "execution_count": 16,
   "id": "32adf20a-b3e4-4089-94c8-b476e7443da6",
   "metadata": {},
   "outputs": [
    {
     "data": {
      "text/plain": [
       "26"
      ]
     },
     "execution_count": 16,
     "metadata": {},
     "output_type": "execute_result"
    }
   ],
   "source": [
    "3+6*4-(2-1)"
   ]
  },
  {
   "cell_type": "code",
   "execution_count": 17,
   "id": "effe4352-ef0d-4838-b2e2-8edbb06b52c0",
   "metadata": {},
   "outputs": [
    {
     "data": {
      "text/plain": [
       "3.141592653589793"
      ]
     },
     "execution_count": 17,
     "metadata": {},
     "output_type": "execute_result"
    }
   ],
   "source": [
    "import math\n",
    "math.pi"
   ]
  },
  {
   "cell_type": "code",
   "execution_count": 18,
   "id": "b385c4e0-1920-4298-947a-42cd58b25e00",
   "metadata": {},
   "outputs": [
    {
     "data": {
      "text/plain": [
       "10"
      ]
     },
     "execution_count": 18,
     "metadata": {},
     "output_type": "execute_result"
    }
   ],
   "source": [
    "math.ceil(9.4)"
   ]
  },
  {
   "cell_type": "code",
   "execution_count": 19,
   "id": "b79481bf-60f4-4b2f-ab2d-e723144fcd1b",
   "metadata": {},
   "outputs": [
    {
     "data": {
      "text/plain": [
       "9"
      ]
     },
     "execution_count": 19,
     "metadata": {},
     "output_type": "execute_result"
    }
   ],
   "source": [
    "math.floor(9.4)"
   ]
  },
  {
   "cell_type": "code",
   "execution_count": 20,
   "id": "cb570a89-fc6c-45c6-a6a2-9d2e88860b1c",
   "metadata": {},
   "outputs": [
    {
     "ename": "SyntaxError",
     "evalue": "invalid syntax (2754938805.py, line 1)",
     "output_type": "error",
     "traceback": [
      "\u001b[1;36m  Cell \u001b[1;32mIn[20], line 1\u001b[1;36m\u001b[0m\n\u001b[1;33m    welcome to nit\u001b[0m\n\u001b[1;37m            ^\u001b[0m\n\u001b[1;31mSyntaxError\u001b[0m\u001b[1;31m:\u001b[0m invalid syntax\n"
     ]
    }
   ],
   "source": [
    "welcome to nit"
   ]
  },
  {
   "cell_type": "code",
   "execution_count": 21,
   "id": "5774365f-2944-45d3-8fc0-98e64ee768a4",
   "metadata": {},
   "outputs": [
    {
     "data": {
      "text/plain": [
       "'welcome to nit'"
      ]
     },
     "execution_count": 21,
     "metadata": {},
     "output_type": "execute_result"
    }
   ],
   "source": [
    "'welcome to nit'"
   ]
  },
  {
   "cell_type": "code",
   "execution_count": 22,
   "id": "e6155765-ad8a-4fc3-adb8-a7ab48688ae5",
   "metadata": {},
   "outputs": [
    {
     "data": {
      "text/plain": [
       "'welcome to nit'"
      ]
     },
     "execution_count": 22,
     "metadata": {},
     "output_type": "execute_result"
    }
   ],
   "source": [
    "\"welcome to nit\""
   ]
  },
  {
   "cell_type": "code",
   "execution_count": 23,
   "id": "34f2d11b-8bfd-4e85-92e7-2cbaeb28f0c9",
   "metadata": {},
   "outputs": [
    {
     "data": {
      "text/plain": [
       "'welcome to nit'"
      ]
     },
     "execution_count": 23,
     "metadata": {},
     "output_type": "execute_result"
    }
   ],
   "source": [
    "'''welcome to nit'''"
   ]
  },
  {
   "cell_type": "code",
   "execution_count": 24,
   "id": "84805f61-5992-4dd9-9994-6a27bc5cad53",
   "metadata": {},
   "outputs": [
    {
     "data": {
      "text/plain": [
       "'welcome to nit'"
      ]
     },
     "execution_count": 24,
     "metadata": {},
     "output_type": "execute_result"
    }
   ],
   "source": [
    "'welcome to nit'"
   ]
  },
  {
   "cell_type": "code",
   "execution_count": 25,
   "id": "c313d8a8-fbd1-4ade-b03b-f79a599aaaab",
   "metadata": {},
   "outputs": [
    {
     "ename": "SyntaxError",
     "evalue": "unterminated string literal (detected at line 1) (376940901.py, line 1)",
     "output_type": "error",
     "traceback": [
      "\u001b[1;36m  Cell \u001b[1;32mIn[25], line 1\u001b[1;36m\u001b[0m\n\u001b[1;33m    'welcome to\u001b[0m\n\u001b[1;37m    ^\u001b[0m\n\u001b[1;31mSyntaxError\u001b[0m\u001b[1;31m:\u001b[0m unterminated string literal (detected at line 1)\n"
     ]
    }
   ],
   "source": [
    "'welcome to \n",
    "nit'"
   ]
  },
  {
   "cell_type": "code",
   "execution_count": 26,
   "id": "2ad0700f-e6e1-4c7c-93a1-1d88f4dd5f78",
   "metadata": {},
   "outputs": [
    {
     "ename": "SyntaxError",
     "evalue": "unterminated string literal (detected at line 1) (778807952.py, line 1)",
     "output_type": "error",
     "traceback": [
      "\u001b[1;36m  Cell \u001b[1;32mIn[26], line 1\u001b[1;36m\u001b[0m\n\u001b[1;33m    \"welcome to\u001b[0m\n\u001b[1;37m    ^\u001b[0m\n\u001b[1;31mSyntaxError\u001b[0m\u001b[1;31m:\u001b[0m unterminated string literal (detected at line 1)\n"
     ]
    }
   ],
   "source": [
    "\"welcome to\n",
    "nit\""
   ]
  },
  {
   "cell_type": "code",
   "execution_count": null,
   "id": "f303e318-9a40-4f54-89a5-0cf56268a3e4",
   "metadata": {},
   "outputs": [],
   "source": [
    "'''welcome to nit'''"
   ]
  },
  {
   "cell_type": "code",
   "execution_count": 27,
   "id": "19d18b30-3335-438e-906b-3bc17297a3d1",
   "metadata": {},
   "outputs": [
    {
     "data": {
      "text/plain": [
       "'welcome to \\nnit'"
      ]
     },
     "execution_count": 27,
     "metadata": {},
     "output_type": "execute_result"
    }
   ],
   "source": [
    "'welcome to \\nnit'"
   ]
  },
  {
   "cell_type": "code",
   "execution_count": 28,
   "id": "0670dcd0-3d55-475f-b41c-e4eaaaa87882",
   "metadata": {},
   "outputs": [
    {
     "data": {
      "text/plain": [
       "'{\"dataframes\": [], \"user\": \"Vaibhav goud\"}'"
      ]
     },
     "execution_count": 28,
     "metadata": {},
     "output_type": "execute_result"
    }
   ],
   "source": [
    "_\n"
   ]
  },
  {
   "cell_type": "code",
   "execution_count": 29,
   "id": "2c21ebc1-7a31-489d-920a-0e15868c99f8",
   "metadata": {},
   "outputs": [
    {
     "data": {
      "text/plain": [
       "'welcome to \\nnit'"
      ]
     },
     "execution_count": 29,
     "metadata": {},
     "output_type": "execute_result"
    }
   ],
   "source": [
    "'welcome to \\nnit'"
   ]
  },
  {
   "cell_type": "code",
   "execution_count": 31,
   "id": "0226436c-ac85-41e8-8621-da011b06264e",
   "metadata": {},
   "outputs": [
    {
     "data": {
      "text/plain": [
       "'{\"dataframes\": [], \"user\": \"Vaibhav goud\"}'"
      ]
     },
     "execution_count": 31,
     "metadata": {},
     "output_type": "execute_result"
    }
   ],
   "source": [
    "_"
   ]
  },
  {
   "cell_type": "code",
   "execution_count": 32,
   "id": "d6ae20b2-b16b-4899-9b53-247b89648038",
   "metadata": {},
   "outputs": [
    {
     "data": {
      "text/plain": [
       "'hello'"
      ]
     },
     "execution_count": 32,
     "metadata": {},
     "output_type": "execute_result"
    }
   ],
   "source": [
    "s = 'hello'\n",
    "s"
   ]
  },
  {
   "cell_type": "code",
   "execution_count": 33,
   "id": "54595ea6-c43c-4c47-8a8a-2c6cb3fa42db",
   "metadata": {},
   "outputs": [
    {
     "ename": "IndexError",
     "evalue": "string index out of range",
     "output_type": "error",
     "traceback": [
      "\u001b[1;31m---------------------------------------------------------------------------\u001b[0m",
      "\u001b[1;31mIndexError\u001b[0m                                Traceback (most recent call last)",
      "Cell \u001b[1;32mIn[33], line 1\u001b[0m\n\u001b[1;32m----> 1\u001b[0m s[\u001b[38;5;241m10\u001b[39m]\n",
      "\u001b[1;31mIndexError\u001b[0m: string index out of range"
     ]
    }
   ],
   "source": [
    "s[10]"
   ]
  },
  {
   "cell_type": "code",
   "execution_count": null,
   "id": "737024d5-3ed2-41ba-a902-7892accab001",
   "metadata": {},
   "outputs": [],
   "source": []
  },
  {
   "cell_type": "code",
   "execution_count": null,
   "id": "35183d2d-ff27-4f09-8318-eccfc359261b",
   "metadata": {},
   "outputs": [],
   "source": []
  },
  {
   "cell_type": "code",
   "execution_count": null,
   "id": "8f64abff-c455-4031-9f04-f4c11569d678",
   "metadata": {},
   "outputs": [],
   "source": []
  },
  {
   "cell_type": "code",
   "execution_count": null,
   "id": "7ccaee50-49ea-42b1-8353-0ca52bbfd392",
   "metadata": {},
   "outputs": [],
   "source": []
  },
  {
   "cell_type": "code",
   "execution_count": null,
   "id": "f02f3f78-cb6f-4a3b-8e8e-eaf1eed00ec1",
   "metadata": {},
   "outputs": [],
   "source": []
  },
  {
   "cell_type": "code",
   "execution_count": null,
   "id": "4ac3fa28-7daa-4f4f-989d-2bf2f6581441",
   "metadata": {},
   "outputs": [],
   "source": []
  },
  {
   "cell_type": "code",
   "execution_count": null,
   "id": "7b63bb05-834e-4278-9a4e-0a05288494d4",
   "metadata": {},
   "outputs": [],
   "source": []
  },
  {
   "cell_type": "code",
   "execution_count": null,
   "id": "66489cc1-7eb3-4b5c-b5d8-342f73375276",
   "metadata": {},
   "outputs": [],
   "source": []
  }
 ],
 "metadata": {
  "kernelspec": {
   "display_name": "Python [conda env:base] *",
   "language": "python",
   "name": "conda-base-py"
  },
  "language_info": {
   "codemirror_mode": {
    "name": "ipython",
    "version": 3
   },
   "file_extension": ".py",
   "mimetype": "text/x-python",
   "name": "python",
   "nbconvert_exporter": "python",
   "pygments_lexer": "ipython3",
   "version": "3.12.7"
  }
 },
 "nbformat": 4,
 "nbformat_minor": 5
}
